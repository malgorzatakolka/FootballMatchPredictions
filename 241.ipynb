{
 "cells": [
  {
   "cell_type": "markdown",
   "id": "10f13273-33dd-4a95-bf2e-7f0cc55db4c1",
   "metadata": {},
   "source": [
    "# Module 2: Data Analysis"
   ]
  },
  {
   "cell_type": "markdown",
   "id": "6aa73bdc-b475-411b-9ba8-1baf0133b2fc",
   "metadata": {},
   "source": [
    "## Sprint 4: Capstone Project"
   ]
  },
  {
   "cell_type": "markdown",
   "id": "b24a34f1-da5a-4bef-bcf6-b52701e25029",
   "metadata": {},
   "source": [
    "## About this Sprint\n\nIt is time for your second Capstone Project.\nYou will work on this project for the whole Sprint.\n\nWe are glad you have successfully reached the final Sprint of this Module.\nYou will put everything you have learned in this Module to work.\nThe outcome of this Sprint should potentially serve as your portfolio item, so try to show your best work!\n\nThe dataset for this Sprint is the Ultimate 25k+ Matches Football Database.\nIt is a large dataset, which will provide your with a lot of opportunities both for statistical inference and for prediction.\nOnce again you will not have concrete tasks or predefined questions - you'll have to be creative and crate a plan for yourself, how to explore the data.\n\nYou already had experience doing that while completing the capstone project for the Module 1.\nIn the industry it's your responsibility as a data scientist to come up with plans and hypothesis for the dataset, so this is an essential skill to practice.\nGood luck!\n\n## Objectives for this Part\n\n- Practice identifying opportunities for data analysis, raising hypothesis, and formulating research tasks.\n- Practice performing EDA, statistical inference, and prediction.\n- Practice working with SQL datasets.\n- Practice visualizing data.\n\n## Data\n\n**Ultimate 25k+ Matches Football Database**\n\n<div><img width=\"400px\" height=\"auto\" src=\"https://images.unsplash.com/photo-1489944440615-453fc2b6a9a9?ixlib=rb-1.2.1&ixid=MnwxMjA3fDB8MHxwaG90by1wYWdlfHx8fGVufDB8fHx8&auto=format&fit=crop&w=1482&q=80\" /></div>\n\nImagine that you are a data scientist working in a sports betting company.\nThe business executives in your company after some initial analysis (they watched this video [Understanding European Soccer in Four Simple Steps: A Guide For Americans](https://www.youtube.com/watch?v=FZ4i3KX2CW4)) identified betting on soccer (European football) as an potential new business opportunity.\nThe problem is that your company doesn't know a lot about soccer (European football).\nYour manager asked you to analyse this dataset and see if you can provide anything that could give us a competitive advantage in the attempt to start strong in the new endevor.\nShe has provided your with some questions, which she suggests are a good starting point for your analysis.\n\n- Which leagues are in which countries?\n- Which leagues score the most/fewest goals?\n- Who are the top scorers in each team and league?\n- Is there such a thing as home advantage?\n- Can we predict how many goals each team will score in each match?\n- Can we predict which team will win the match?\n\nThe link to the [Kaggle dataset is here](https://www.kaggle.com/prajitdatta/ultimate-25k-matches-football-database-european).\n\n## Requirements\n\n- Perform data cleaning and feature engineering. Work with features - handle missing data if needed, use SQL and Pandas functions to create other additional features.\n- Perform exploratory data analysis. Describe the data with basic statistical parameters - mean, median, quantiles, etc. Use parameters that give you the most important statistical insights of the data. Grouping the data and analyzing the groups - using SQL or Pandas aggregate methods. Visualize the data - you can use line, scatter, histogram plots, density plots, regplots, etc.\n- Perform statistical inference. Raise and test statistical hypotheses. Set appropriate significance levels and create confidence intervals for the variables of interest.\n- Train linear machine learning models and use them for forecasting. Use cross validation, information criteria, and/or other methods to specify your models correctly. Choose and use appropriate metrics to measure your models' performance.\n- Create a Google Data Studio dashboard with at least three different types of charts.\n- Provide clear explanations in your notebook. Your explanations should inform the reader what you are trying to achieve, what results did you get, and what these results mean.\n- Present the project - the data, methods, and results.\n- Provide suggestions about how your analysis can be improved.\n\n## Bonus Challenges\n\nAs a data scientists you will spend significant amount of your time learning new things.\nSometimes you will do that for fun, but most of the time you will have an urgent problem and you will need to quickly learn some new skill to be able to solve it.\nIt is very important to gradually build this skill - it is extremely valuable for all data scientists.\nThe bonus challenges are designed to simulate these types of situations.\nThese challenges require you to do something that we haven't covered in the course yet.\nInstead of trying to do all of the bonus challenges, concentrate on just one or two and do them well.\nAll of the bonus challenges are optional - no points will be deducted if you skip them.\n\n- Try dimensionality reduction algorithm (e.g. PCA, t-SNE, Autoencoder).\n- Try clustering your data.\n- Try a nonlinear machine learning model to explain relationships between features and predict new values.\n\n## Evaluation Criteria\n\n- Adherence to the requirements. How well did you meet the requirements?\n- Depth of your analysis. Did you just skim the surface or did you explored the dataset in depth?\n- Visualization quality. Did you use charts effectively to visualize patterns in the data? Are your visualizations properly labeled? Did you use colors effectively? Did you adhere to the principle of proportional ink?\n- Code quality. Was your code well-structured? Did you use the appropriate levels of abstraction? Did you remove commented out and unused code? Did you adhere to the PEP8?\n- Code performance. Did you use the suitable algorithms and data structures to solve the problems?\n- Delivery of the presentation. How clear are your reasoning and explanations?\n- Bonus challenges. Have you put extra effort to do one or more of the bonus challenges (no points will be deducted if you skip them)?\n\n## Correction\n\nDuring your project correction, you should present it as if talking to a technical team lead and a senior co-worker working in your team.\nYou can assume that they will have strong data science and software engineering skills - they will understand technical jargon, they are expected to notice things that could have been done better, ask about the choices you've made (especially if you've made some questionable choices).\nIn addition, be careful not to spend your time explaining trivial concepts or code snippets that are simple - your best bet is to focus your presentation on the more difficult portions of your code."
   ]
  },
  {
   "cell_type": "markdown",
   "id": "382a7281-6393-4faa-8aba-c3d0d8446ca4",
   "metadata": {},
   "source": [
    "## General Correction Guidelines\n\nFor an in-depth explanation about how corrections work at Turing College, please read [this doc](https://turingcollege.atlassian.net/wiki/spaces/DLG/pages/537395951/Peer+expert+reviews+corrections).\n"
   ]
  }
 ],
 "metadata": {
  "kernelspec": {
   "display_name": "Python 3",
   "language": "python",
   "name": "python3"
  },
  "language_info": {
   "codemirror_mode": {
    "name": "ipython",
    "version": 3
   },
   "file_extension": ".py",
   "mimetype": "text/x-python",
   "name": "python",
   "nbconvert_exporter": "python",
   "pygments_lexer": "ipython3",
   "version": "3.9.5"
  }
 },
 "nbformat": 4,
 "nbformat_minor": 5
}
